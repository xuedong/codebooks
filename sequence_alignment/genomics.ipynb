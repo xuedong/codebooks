{
 "cells": [
  {
   "cell_type": "code",
   "execution_count": 1,
   "metadata": {},
   "outputs": [],
   "source": [
    "import alignments as alg\n",
    "import utils"
   ]
  },
  {
   "cell_type": "code",
   "execution_count": 2,
   "metadata": {},
   "outputs": [
    {
     "name": "stdout",
     "output_type": "stream",
     "text": [
      "Local alignment score: 875\n",
      "Local alignment of human protein: HSGVNQLGGVFVNGRPLPDSTRQKIVELAHSGARPCDISRILQVSNGCVSKILGRYYETGSIRPRAIGGSKPRVATPEVVSKIAQYKRECPSIFAWEIRDRLLSEGVCTNDNIPSVSSINRVLRNLASEK-QQ\n",
      "Local alignment of fly protein: HSGVNQLGGVFVGGRPLPDSTRQKIVELAHSGARPCDISRILQVSNGCVSKILGRYYETGSIRPRAIGGSKPRVATAEVVSKISQYKRECPSIFAWEIRDRLLQENVCTNDNIPSVSSINRVLRNLAAQKEQQ\n"
     ]
    }
   ],
   "source": [
    "human = utils.read_protein('data/alg_HumanEyelessProtein.txt')\n",
    "fly = utils.read_protein('data/alg_FruitflyEyelessProtein.txt')\n",
    "#print(len(human))\n",
    "#print(len(fly))\n",
    "scoring_matrix = utils.read_scoring_matrix('data/alg_PAM50.txt')\n",
    "alignment_matrix = alg.compute_alignment_matrix(human, fly, scoring_matrix, False)\n",
    "\n",
    "score, align_human, align_fly = alg.compute_local_alignment(human, fly, scoring_matrix, alignment_matrix)\n",
    "print(\"Local alignment score: \" + str(score))\n",
    "print(\"Local alignment of human protein: \" + align_human)\n",
    "print(\"Local alignment of fly protein: \" + align_fly)"
   ]
  },
  {
   "cell_type": "code",
   "execution_count": null,
   "metadata": {},
   "outputs": [],
   "source": []
  }
 ],
 "metadata": {
  "kernelspec": {
   "display_name": "Python 2",
   "language": "python",
   "name": "python2"
  },
  "language_info": {
   "codemirror_mode": {
    "name": "ipython",
    "version": 3
   },
   "file_extension": ".py",
   "mimetype": "text/x-python",
   "name": "python",
   "nbconvert_exporter": "python",
   "pygments_lexer": "ipython3",
   "version": "3.6.4"
  }
 },
 "nbformat": 4,
 "nbformat_minor": 2
}
