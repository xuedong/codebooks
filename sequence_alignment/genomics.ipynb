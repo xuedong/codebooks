{
 "cells": [
  {
   "cell_type": "code",
   "execution_count": 1,
   "metadata": {},
   "outputs": [],
   "source": [
    "import random\n",
    "import matplotlib.pyplot as plt\n",
    "import math\n",
    "\n",
    "import alignments as alg\n",
    "import utils"
   ]
  },
  {
   "cell_type": "code",
   "execution_count": 2,
   "metadata": {},
   "outputs": [
    {
     "name": "stdout",
     "output_type": "stream",
     "text": [
      "Local alignment score: 875\n",
      "Local alignment of human protein: HSGVNQLGGVFVNGRPLPDSTRQKIVELAHSGARPCDISRILQVSNGCVSKILGRYYETGSIRPRAIGGSKPRVATPEVVSKIAQYKRECPSIFAWEIRDRLLSEGVCTNDNIPSVSSINRVLRNLASEK-QQ\n",
      "Local alignment of fly protein: HSGVNQLGGVFVGGRPLPDSTRQKIVELAHSGARPCDISRILQVSNGCVSKILGRYYETGSIRPRAIGGSKPRVATAEVVSKISQYKRECPSIFAWEIRDRLLQENVCTNDNIPSVSSINRVLRNLAAQKEQQ\n"
     ]
    }
   ],
   "source": [
    "human = utils.read_protein('data/alg_HumanEyelessProtein.txt')\n",
    "fly = utils.read_protein('data/alg_FruitflyEyelessProtein.txt')\n",
    "#print(len(human))\n",
    "#print(len(fly))\n",
    "scoring_matrix = utils.read_scoring_matrix('data/alg_PAM50.txt')\n",
    "alignment_matrix = alg.compute_alignment_matrix(human, fly, scoring_matrix, False)\n",
    "\n",
    "score, align_human, align_fly = alg.compute_local_alignment(human, fly, scoring_matrix, alignment_matrix)\n",
    "print(\"Local alignment score: \" + str(score))\n",
    "print(\"Local alignment of human protein: \" + align_human)\n",
    "print(\"Local alignment of fly protein: \" + align_fly)"
   ]
  },
  {
   "cell_type": "code",
   "execution_count": 3,
   "metadata": {},
   "outputs": [],
   "source": [
    "def remove_dash(align):\n",
    "    new_align = \"\"\n",
    "    for char in align:\n",
    "        if char != '-':\n",
    "            new_align += char\n",
    "    return new_align\n",
    "\n",
    "def match_percent(align1, align2):\n",
    "    matches = 0\n",
    "    length = len(align2)\n",
    "    for i in range(length):\n",
    "        if align1[i] == align2[i]:\n",
    "            matches += 1\n",
    "    return (matches / float(length))"
   ]
  },
  {
   "cell_type": "code",
   "execution_count": 4,
   "metadata": {},
   "outputs": [
    {
     "name": "stdout",
     "output_type": "stream",
     "text": [
      "Percentage of elements that agree between human and consensus: 72.9%\n",
      "Percentage of elements that agree between fly and consensus: 70.1%\n"
     ]
    }
   ],
   "source": [
    "consensus = utils.read_protein('data/alg_ConsensusPAXDomain.txt')\n",
    "\n",
    "new_align_human = remove_dash(align_human)\n",
    "new_align_fly = remove_dash(align_fly)\n",
    "\n",
    "align_matrix_human_pac = alg.compute_alignment_matrix(new_align_human, consensus, scoring_matrix, True)\n",
    "align_matrix_fly_pac = alg.compute_alignment_matrix(new_align_fly, consensus, scoring_matrix, True)\n",
    "\n",
    "aligns_human_pac = alg.compute_global_alignment(new_align_human, consensus, scoring_matrix, align_matrix_human_pac)\n",
    "aligns_fly_pac = alg.compute_global_alignment(new_align_fly, consensus, scoring_matrix, align_matrix_fly_pac)\n",
    "\n",
    "percent_human_pac = match_percent(aligns_human_pac[1], aligns_human_pac[2]) * 100.\n",
    "percent_fly_pac = match_percent(aligns_fly_pac[1], aligns_fly_pac[2]) * 100.\n",
    "\n",
    "print(\"Percentage of elements that agree between human and consensus: %.1f%%\" % percent_human_pac)\n",
    "print(\"Percentage of elements that agree between fly and consensus: %.1f%%\" % percent_fly_pac)\n",
    "\n",
    "# These similarities cannot be due to chance. Indeed, each of\n",
    "# these two global alignments agree on over 90 elments among\n",
    "# over 130 elements. If the alphabet contains 23 characters,\n",
    "# then the chance of matching over 90 elements would be extremely small."
   ]
  },
  {
   "cell_type": "code",
   "execution_count": 5,
   "metadata": {},
   "outputs": [],
   "source": [
    "def generate_null_distribution(seq_x, seq_y, scoring_matrix, num_trials):\n",
    "    distribution = {}\n",
    "    \n",
    "    for trial in range(num_trials):\n",
    "        # convert the string seq_y into a list\n",
    "        rand_y = list(seq_y)\n",
    "        # shuffle it\n",
    "        random.shuffle(rand_y)\n",
    "        # convert it back into a string\n",
    "        rand_y = \"\".join(rand_y)\n",
    "        \n",
    "        alignment_matrix = alg.compute_alignment_matrix(seq_x, rand_y, scoring_matrix, False)\n",
    "        score, _, _ = alg.compute_local_alignment(seq_x, rand_y, scoring_matrix, alignment_matrix)\n",
    "        if score in distribution:\n",
    "            distribution[score] += 1\n",
    "        else:\n",
    "            distribution[score] = 1\n",
    "            \n",
    "    return distribution"
   ]
  },
  {
   "cell_type": "code",
   "execution_count": 6,
   "metadata": {},
   "outputs": [
    {
     "data": {
      "image/png": "[encoded data removed]",
      "text/plain": [
       "<matplotlib.figure.Figure at 0x7f3129854940>"
      ]
     },
     "metadata": {},
     "output_type": "display_data"
    }
   ],
   "source": [
    "distribution = generate_null_distribution(human, fly, scoring_matrix, 1000)\n",
    "X = []\n",
    "Y = []\n",
    "for score in distribution:\n",
    "    X.append(score)\n",
    "    Y.append(distribution[score] / 1000.)\n",
    "    \n",
    "plt.bar(X, Y)\n",
    "plt.xlabel(\"Scores\")\n",
    "plt.ylabel(\"Fraction of trials\")\n",
    "plt.title(\"Null distribution for hypothesis testing using 1000 trials\")\n",
    "plt.show()"
   ]
  },
  {
   "cell_type": "code",
   "execution_count": 7,
   "metadata": {},
   "outputs": [
    {
     "name": "stdout",
     "output_type": "stream",
     "text": [
      "mean = 51.799000\n",
      "standard deviation = 6.909312\n",
      "z-score = 119.143692\n"
     ]
    }
   ],
   "source": [
    "total = 0\n",
    "for score in distribution:\n",
    "    total += score * distribution[score]\n",
    "mean = total / 1000.\n",
    "print(\"mean = %f\" % mean)\n",
    "\n",
    "total_square = 0\n",
    "for score in distribution:\n",
    "    total_square += distribution[score] * (score - mean) ** 2\n",
    "var = total_square / 1000.\n",
    "std = math.sqrt(var)\n",
    "print(\"standard deviation = %f\" % std)\n",
    "\n",
    "z_score = (875 - mean) / std\n",
    "print(\"z-score = %f\" % z_score)\n",
    "\n",
    "# We can see that the shape of the distribution is quite\n",
    "# clost to a bell-shaped distribution, thus we can consider\n",
    "# that 99% of the scores are within 3 standard deviations\n",
    "# away from the mean. On the other hand, the z-score shows\n",
    "# that the score between human and fly is more than 100\n",
    "# standard deviations away from the mean, which means this\n",
    "# score, resulting from the local alignment of the HumanEyelessProtein \n",
    "# and the FruitflyEyelessProtein, is not a lucky strike."
   ]
  },
  {
   "cell_type": "code",
   "execution_count": null,
   "metadata": {},
   "outputs": [],
   "source": []
  }
 ],
 "metadata": {
  "kernelspec": {
   "display_name": "Python 2",
   "language": "python",
   "name": "python2"
  },
  "language_info": {
   "codemirror_mode": {
    "name": "ipython",
    "version": 3
   },
   "file_extension": ".py",
   "mimetype": "text/x-python",
   "name": "python",
   "nbconvert_exporter": "python",
   "pygments_lexer": "ipython3",
   "version": "3.6.4"
  }
 },
 "nbformat": 4,
 "nbformat_minor": 2
}
