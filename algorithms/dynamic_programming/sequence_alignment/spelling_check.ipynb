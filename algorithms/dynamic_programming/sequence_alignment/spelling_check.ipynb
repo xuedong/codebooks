{
 "cells": [
  {
   "cell_type": "code",
   "execution_count": 1,
   "metadata": {},
   "outputs": [],
   "source": [
    "import alignments as alg\n",
    "import utils\n",
    "\n",
    "from string import ascii_lowercase"
   ]
  },
  {
   "cell_type": "code",
   "execution_count": 2,
   "metadata": {},
   "outputs": [],
   "source": [
    "def edit_dist(word_x, word_y):\n",
    "    alphabet = ascii_lowercase\n",
    "    scoring_matrix = alg.build_scoring_matrix(alphabet, 2, 1, 0)\n",
    "    alignment_matrix = alg.compute_alignment_matrix(word_x, word_y, scoring_matrix, True)\n",
    "    score, _, _ = alg.compute_global_alignment(word_x, word_y, scoring_matrix, alignment_matrix)\n",
    "    \n",
    "    return len(word_x) + len(word_y) - score\n",
    "\n",
    "def check_spelling(checked_word, dist, word_list):\n",
    "    return set([word for word in word_list if edit_dist(checked_word, word) <= dist])"
   ]
  },
  {
   "cell_type": "code",
   "execution_count": 3,
   "metadata": {},
   "outputs": [
    {
     "name": "stdout",
     "output_type": "stream",
     "text": [
      "{'bumble', 'humble', 'tumble', 'rumble', 'humbly', 'jumble', 'humbled', 'humbler', 'mumble', 'humbles', 'fumble'}\n",
      "{'fixedly', 'firefly', 'refly', 'liefly', 'firstly', 'tiredly', 'fireclay', 'freely', 'firmly', 'direly', 'finely'}\n"
     ]
    }
   ],
   "source": [
    "dictionary = open('data/assets_scrabble_words3.txt', 'r').readlines()\n",
    "words = [line.strip() for line in dictionary]\n",
    "\n",
    "humble = check_spelling('humble', 1, words)\n",
    "firefly = check_spelling('firefly', 2, words)\n",
    "\n",
    "print(humble)\n",
    "print(firefly)"
   ]
  },
  {
   "cell_type": "code",
   "execution_count": null,
   "metadata": {},
   "outputs": [],
   "source": []
  }
 ],
 "metadata": {
  "kernelspec": {
   "display_name": "Python 2",
   "language": "python",
   "name": "python2"
  },
  "language_info": {
   "codemirror_mode": {
    "name": "ipython",
    "version": 3
   },
   "file_extension": ".py",
   "mimetype": "text/x-python",
   "name": "python",
   "nbconvert_exporter": "python",
   "pygments_lexer": "ipython3",
   "version": "3.6.4"
  }
 },
 "nbformat": 4,
 "nbformat_minor": 2
}
